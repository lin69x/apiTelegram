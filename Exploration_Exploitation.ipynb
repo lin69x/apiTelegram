{
  "nbformat": 4,
  "nbformat_minor": 0,
  "metadata": {
    "@webio": {
      "lastCommId": null,
      "lastKernelId": null
    },
    "coursera": {
      "course_slug": "fundamentals-of-reinforcement-learning",
      "graded_item_id": "QpLYg",
      "launcher_item_id": "9ldtk"
    },
    "kernelspec": {
      "display_name": "Python 3",
      "language": "python",
      "name": "python3"
    },
    "language_info": {
      "codemirror_mode": {
        "name": "ipython",
        "version": 3
      },
      "file_extension": ".py",
      "mimetype": "text/x-python",
      "name": "python",
      "nbconvert_exporter": "python",
      "pygments_lexer": "ipython3",
      "version": "3.7.6"
    },
    "colab": {
      "name": "Exploration-Exploitation.ipynb",
      "provenance": [],
      "collapsed_sections": [],
      "include_colab_link": true
    }
  },
  "cells": [
    {
      "cell_type": "markdown",
      "metadata": {
        "id": "view-in-github",
        "colab_type": "text"
      },
      "source": [
        "<a href=\"https://colab.research.google.com/github/lin69x/apiTelegram/blob/master/Exploration_Exploitation.ipynb\" target=\"_parent\"><img src=\"https://colab.research.google.com/assets/colab-badge.svg\" alt=\"Open In Colab\"/></a>"
      ]
    },
    {
      "cell_type": "markdown",
      "metadata": {
        "deletable": false,
        "editable": false,
        "nbgrader": {
          "cell_type": "markdown",
          "checksum": "3d7e0bf7bf37a14b2f4cc8896af5d808",
          "grade": false,
          "grade_id": "cell-c9904c1c46f57746",
          "locked": true,
          "schema_version": 3,
          "solution": false
        },
        "id": "DqppUAK44o6t"
      },
      "source": [
        "\n",
        "# Задание 1: Задача бандитов и разведка/эксплуатация"
      ]
    },
    {
      "cell_type": "markdown",
      "metadata": {
        "deletable": false,
        "editable": false,
        "nbgrader": {
          "cell_type": "markdown",
          "checksum": "c8f4f6a23a8695f62a4e02738e204550",
          "grade": false,
          "grade_id": "cell-6ef89310dd46c266",
          "locked": true,
          "schema_version": 3,
          "solution": false
        },
        "id": "-i-fgewW4o6x"
      },
      "source": [
        "\n",
        "Этот ноутбук:\n",
        "- Поможет вам создать свой первый алгоритм бандита\n",
        "- Поможет вам понять влияние эпсилон на разведку и узнать о компромиссе между разведкой и эксплуатацией.\n",
        "- Познакомит вас с некоторым программным обеспечением для обучения с подкреплением\n",
        "\n",
        "Этот курс использует библиотеку RL-Glue для проведения большинства наших экспериментов. Первоначально она была разработана Адамом Уайтом, Брайаном Таннером и Ричем Саттоном. Эта библиотека даст вам прочную основу для понимания того, как работают эксперименты с обучением с подкреплением и как проводить свои собственные.\n",
        "\n",
        "Мы предполагаем, что вы раньше использовали ноутбук Jupyter. Но если нет, то все довольно просто. Просто нажмите кнопку **run** или *Shift + Enter*, чтобы запустить каждую из ячеек. Места в коде, которые вам нужно заполнить, будут ясно обозначены."
      ]
    },
    {
      "cell_type": "markdown",
      "metadata": {
        "deletable": false,
        "editable": false,
        "nbgrader": {
          "cell_type": "markdown",
          "checksum": "237637aecdf568d891f923f2da93ed0e",
          "grade": false,
          "grade_id": "cell-2ebeb8b32ec50907",
          "locked": true,
          "schema_version": 3,
          "solution": false,
          "task": false
        },
        "id": "e2YIe3Eh4o6z"
      },
      "source": [
        "## Раздел 0: Подготовка"
      ]
    },
    {
      "cell_type": "code",
      "metadata": {
        "deletable": false,
        "editable": false,
        "nbgrader": {
          "cell_type": "code",
          "checksum": "fbe36b78ea23f980c0fec58209d0f136",
          "grade": false,
          "grade_id": "cell-b1f350f6be960eea",
          "locked": true,
          "schema_version": 3,
          "solution": false
        },
        "id": "iX__mGWw4o60",
        "outputId": "8c1ef77d-afbf-48ec-daba-b6d62a6231b1",
        "colab": {
          "base_uri": "https://localhost:8080/",
          "height": 408
        }
      },
      "source": [
        "# Импорт необходимых библиотек\n",
        "\n",
        "!wget https://github.com/andrew-veriga/DL/raw/master/assign.zip\n",
        "!unzip -u assign.zip \n",
        "!rm assign.zip \n",
        "\n",
        "%matplotlib inline\n",
        "import numpy as np\n",
        "import matplotlib.pyplot as plt\n",
        "from tqdm import tqdm\n",
        "import time\n",
        "\n",
        "from rlglue.rl_glue import RLGlue\n",
        "import main_agent\n",
        "import ten_arm_env\n",
        "import test_env"
      ],
      "execution_count": null,
      "outputs": [
        {
          "output_type": "stream",
          "text": [
            "--2020-10-03 12:40:06--  https://github.com/andrew-veriga/DL/raw/master/assign.zip\n",
            "Resolving github.com (github.com)... 140.82.113.3\n",
            "Connecting to github.com (github.com)|140.82.113.3|:443... connected.\n",
            "HTTP request sent, awaiting response... 302 Found\n",
            "Location: https://raw.githubusercontent.com/andrew-veriga/DL/master/assign.zip [following]\n",
            "--2020-10-03 12:40:06--  https://raw.githubusercontent.com/andrew-veriga/DL/master/assign.zip\n",
            "Resolving raw.githubusercontent.com (raw.githubusercontent.com)... 151.101.0.133, 151.101.64.133, 151.101.128.133, ...\n",
            "Connecting to raw.githubusercontent.com (raw.githubusercontent.com)|151.101.0.133|:443... connected.\n",
            "HTTP request sent, awaiting response... 200 OK\n",
            "Length: 6294 (6.1K) [application/zip]\n",
            "Saving to: ‘assign.zip’\n",
            "\n",
            "assign.zip          100%[===================>]   6.15K  --.-KB/s    in 0s      \n",
            "\n",
            "2020-10-03 12:40:07 (60.2 MB/s) - ‘assign.zip’ saved [6294/6294]\n",
            "\n",
            "Archive:  assign.zip\n",
            "  inflating: main_agent.py           \n",
            "  inflating: rlglue/agent.py         \n",
            "  inflating: rlglue/rl_glue.py       \n",
            "  inflating: rlglue/environment.py   \n",
            "  inflating: ten_arm_env.py          \n",
            "  inflating: test_env.py             \n"
          ],
          "name": "stdout"
        }
      ]
    },
    {
      "cell_type": "markdown",
      "metadata": {
        "deletable": false,
        "editable": false,
        "nbgrader": {
          "cell_type": "markdown",
          "checksum": "4e05f19854ba40ff12c551dec5042704",
          "grade": false,
          "grade_id": "cell-e2a306e4cfd3e433",
          "locked": true,
          "schema_version": 3,
          "solution": false
        },
        "id": "0ZO1sXqs4o68"
      },
      "source": [
        "В ячейке выше мы импортируем библиотеки, которые нам нужны для этого задания. Мы используем numpy на протяжении всего курса и иногда даем подсказки, какие методы использовать из numpy. Кроме этого, мы в основном используем Vanilla Python и иногда другую библиотеку, такую ​​как matplotlib, для построения графиков.\n",
        "\n",
        "Вы могли заметить, что мы импортируем ten_arm_env. Это __10-рукий стенд__, представленный в [разделе 2.3](http://www.incompleteideas.net/book/RLbook2018.pdf)  учебника. Мы используем его на протяжении всего этого ноутбука для тестирования наших бандитских агентов. У него есть 10 рук - это действия которые может выполнять агент. Выполнение такого действия генерирует стохастическое вознаграждение из распределения Гаусса с единичной дисперсией. Для каждого действия ожидаемая ценность этого действия выбирается случайным образом из нормального распределения перед каждым запуском. Если вы не знакомы с 10-руким стендом, просмотрите его в учебнике, прежде чем продолжить."
      ]
    },
    {
      "cell_type": "markdown",
      "metadata": {
        "deletable": false,
        "editable": false,
        "nbgrader": {
          "cell_type": "markdown",
          "checksum": "6dfc1a07738ba7ef428ad0d6045b194d",
          "grade": false,
          "grade_id": "cell-753cb03c956b611e",
          "locked": true,
          "schema_version": 3,
          "solution": false
        },
        "id": "mbHKyLAL4o69"
      },
      "source": [
        "## Раздел 1: Жадный агент"
      ]
    },
    {
      "cell_type": "markdown",
      "metadata": {
        "deletable": false,
        "editable": false,
        "nbgrader": {
          "cell_type": "markdown",
          "checksum": "26fc8f97320909c8ac7e8c66f5b73fca",
          "grade": false,
          "grade_id": "cell-8e7576e85bbe82fc",
          "locked": true,
          "schema_version": 3,
          "solution": false
        },
        "id": "gqEYEXr34o6-"
      },
      "source": [
        "Мы создадим агента, который будет искать действие с самой высокой ожидаемой наградой. Один из способов, которым может действовать агент - всегда выбирать действие с наибольшей ценностьбю на основе текущих оценок агента. Он называется жадным агентом, поскольку жадно выбирает действие, которое, по его мнению, имеет наибольшую ценность. Посмотрим, что происходит в этом случае.\n",
        "\n",
        "Сначала мы реализуем функцию argmax, которая принимает список ценностей действий и возвращает действие с наибольшей ценностью. Почему мы реализуем нашу собственную, а не используем функцию argmax из библиотеки numpy? Функция argmax из numpy возвращает первое вхождение наибольшего значения. Нам не надо, чтобы так проиходило, поскольку так агент будет выбирать конкретное действие в случае наличия равных наград. Вместо этого мы хотим случайным образом выбирать между самыми высокими значениями. Итак, мы собираемся реализовать нашу собственную функцию argmax. Вы можете посмотреть [np.random.choice] (https://docs.scipy.org/doc/numpy/reference/generated/numpy.random.choice.html), о случайном выборе из списка значений."
      ]
    },
    {
      "cell_type": "code",
      "metadata": {
        "deletable": false,
        "nbgrader": {
          "cell_type": "code",
          "checksum": "7891047f2d6f4137ad3a82d2a4390c88",
          "grade": false,
          "grade_id": "cell-00a70af9534c45cb",
          "locked": false,
          "schema_version": 3,
          "solution": true
        },
        "id": "k_LXOZX14o7A"
      },
      "source": [
        "def argmax(q_values):\n",
        "    \"\"\"\n",
        "    Принимает список q_values ​​и возвращает индекс элемента\n",
        "    с наибольшим значением. Разрывает связи случайным образом.\n",
        "    \n",
        "    возвращает: int - индекс самого высокого значения в q_values\n",
        "    \"\"\"\n",
        "    top_value = float(\"-inf\")\n",
        "    ties = []\n",
        "    \n",
        "    for i in range(len(q_values)):\n",
        "        # Если ценность в q_values ​​больше, чем наивысшая, обновить top_value и сбросить ties в ноль\n",
        "        # если ценность равна top_value, добавить индекс к ties\n",
        "        # вернуть случайно выбранный индекс из ties.\n",
        "        # ВАШ КОД ЗДЕСЬ\n",
        "        raise NotImplementedError()\n",
        "    return np.random.choice(ties)"
      ],
      "execution_count": null,
      "outputs": []
    },
    {
      "cell_type": "code",
      "metadata": {
        "id": "tp7ws6d34o7G"
      },
      "source": [
        "# --------------\n",
        "# Отладочная ячейка\n",
        "# --------------\n",
        "\n",
        "test_array = [0, 0, 0, 0, 0, 0, 0, 0, 1, 0]\n",
        "assert argmax(test_array) == 8, \"Check your argmax implementation returns the index of the largest value\"\n",
        "\n",
        "# убедитесь, что np.random.choice вызвана корректно\n",
        "np.random.seed(0)\n",
        "test_array = [1, 0, 0, 1]\n",
        "\n",
        "assert argmax(test_array) == 0"
      ],
      "execution_count": null,
      "outputs": []
    },
    {
      "cell_type": "code",
      "metadata": {
        "deletable": false,
        "editable": false,
        "nbgrader": {
          "cell_type": "code",
          "checksum": "478af144d962fce153fc39829fe2b80e",
          "grade": true,
          "grade_id": "cell-f227246db2235e96",
          "locked": true,
          "points": 10,
          "schema_version": 3,
          "solution": false
        },
        "id": "HXutlX9x4o7J"
      },
      "source": [
        "# -----------\n",
        "# Тестовая ячейка\n",
        "# -----------\n",
        "\n",
        "test_array = [0, 0, 0, 0, 0, 0, 0, 0, 1, 0]\n",
        "assert argmax(test_array) == 8, \"Check your argmax implementation returns the index of the largest value\"\n",
        "\n",
        "# Установить случайное начальное число, чтобы результаты были детерминированными\n",
        "np.random.seed(0)\n",
        "test_array = [1, 0, 0, 1]\n",
        "\n",
        "counts = [0, 0, 0, 0]\n",
        "for _ in range(100):\n",
        "    a = argmax(test_array)\n",
        "    counts[a] += 1\n",
        "\n",
        "# убедиться, что argmax не всегда выбирает первое вхождение\n",
        "assert counts[0] != 100, \"Make sure your argmax implementation randomly choooses among the largest values.\"\n",
        "\n",
        "# убедиться, что argmax не всегда выбирает последнее вхождение\n",
        "assert counts[3] != 100, \"Make sure your argmax implementation randomly choooses among the largest values.\"\n",
        "\n",
        "# убедиться, что генератор случайных чисел вызван только один раз когда бы  `argmax` ни вызывался\n",
        "expected = [44, 0, 0, 56] # <-- обратите внимание: не однородный из-за случайности\n",
        "assert counts == expected"
      ],
      "execution_count": null,
      "outputs": []
    },
    {
      "cell_type": "markdown",
      "metadata": {
        "deletable": false,
        "editable": false,
        "nbgrader": {
          "cell_type": "markdown",
          "checksum": "60f1a63e2e8eadfa949c0c7e5641c6c3",
          "grade": false,
          "grade_id": "cell-80dca165281ba2f3",
          "locked": true,
          "schema_version": 3,
          "solution": false
        },
        "id": "OkYILHHI4o7M"
      },
      "source": [
        "Теперь мы представляем первую часть агента RL-Glue, который вы будете реализовывать. Здесь мы создадим GreedyAgent и реализуем метод agent_step. Этот метод вызывается каждый раз, когда агент делает шаг. Метод должен возвращать действие, выбранное агентом. Этот метод также обеспечивает обновление оценок агента на основе сигналов, которые он получает из среды.\n",
        "\n",
        "Заполните пропуски в коде, чтобы реализовать жадного агента."
      ]
    },
    {
      "cell_type": "code",
      "metadata": {
        "deletable": false,
        "nbgrader": {
          "cell_type": "code",
          "checksum": "134adde5ff899852967fc0caa5ec8944",
          "grade": false,
          "grade_id": "cell-582d9e7f86d07eb6",
          "locked": false,
          "schema_version": 3,
          "solution": true
        },
        "id": "N4me5BTL4o7N"
      },
      "source": [
        "\n",
        "class GreedyAgent(main_agent.Agent):\n",
        "    def agent_step(self, reward, observation):\n",
        "        \"\"\"\n",
        "        Один шаг агента. Входные параметры: награда, наблюдения\n",
        "        возвращает действие, которое агент выбирает на этом временном шаге.\n",
        "        \n",
        "        Аргументы:\n",
        "        reward -- float, награда, которую агент получил от окружения после выполнения последнего действия.\n",
        "        observation -- float, наблюдаемое состояние, в котором находится агент. \n",
        "        Не беспокойтесь об этом, так как вы не будете его использовать до будущих уроков\n",
        "        Возвращаемое значение:\n",
        "        current_action -- int, действие, выбранное агентом на текущем временном шаге.\n",
        "        \"\"\"\n",
        "        ### Переменные класса ###\n",
        "        # self.q_values : Массив, содержащий, по мнению агента, все ценности действий (рук).\n",
        "        # self.arm_count : Массив со счетчиком количества опускания каждой руки\n",
        "        # self.last_action : Действие, которое агент совершил на предыдущем временном шаге.\n",
        "        #######################\n",
        "        \n",
        "        # Update Q values Обновление значения Q \n",
        "        # Подсказка: посмотрите алгоритм в разделе \"Инкрементная реализация\" лекции \"Многорукий бандит\"\n",
        "        # увеличить счетчик в self.arm_count для действия с предыдущего шага времени\n",
        "        # обновление размера шага с использованием self.arm_count\n",
        "        # обновление self.q_values для действия с предыдущего шага времени\n",
        "        \n",
        "        # ВАШ КОД ЗДЕСЬ\n",
        "        raise NotImplementedError()\n",
        "        \n",
        "        # текущее действие = ? # Используйте функцию argmax которую вы создали ранее\n",
        "        # ВАШ КОД ЗДЕСЬ\n",
        "        raise NotImplementedError()\n",
        "    \n",
        "        self.last_action = current_action\n",
        "        \n",
        "        return current_action\n",
        "        "
      ],
      "execution_count": null,
      "outputs": []
    },
    {
      "cell_type": "code",
      "metadata": {
        "id": "zs6pwChC4o7P"
      },
      "source": [
        "# --------------\n",
        "# Отладочная ячейка\n",
        "# --------------\n",
        "\n",
        "# создать фейкового агента для тестирования и установить некоторые начальные условия\n",
        "np.random.seed(1)\n",
        "greedy_agent = GreedyAgent()\n",
        "greedy_agent.q_values = [0, 0, 0.5, 0, 0]\n",
        "greedy_agent.arm_count = [0, 1, 0, 0, 0]\n",
        "greedy_agent.last_action = 1\n",
        "\n",
        "action = greedy_agent.agent_step(reward=1, observation=0)\n",
        "\n",
        "# убедиться, что q_values обновилась корректно\n",
        "assert greedy_agent.q_values == [0, 0.5, 0.5, 0, 0]\n",
        "\n",
        "# убедиться, что argmax выбирает равные наибольшие значения случайным образом\n",
        "assert action == 2"
      ],
      "execution_count": null,
      "outputs": []
    },
    {
      "cell_type": "code",
      "metadata": {
        "deletable": false,
        "editable": false,
        "nbgrader": {
          "cell_type": "code",
          "checksum": "3434a959aa0f48af5f4250259dd8f556",
          "grade": true,
          "grade_id": "cell-08fc9e17dec07fd5",
          "locked": true,
          "points": 10,
          "schema_version": 3,
          "solution": false
        },
        "id": "2A8ypLZz4o7U"
      },
      "source": [
        "# -----------\n",
        "# Тестовая ячейка\n",
        "# -----------\n",
        "\n",
        "# Построение фейкового агента для проверки и установки некоторых начальных условий\n",
        "greedy_agent = GreedyAgent()\n",
        "greedy_agent.q_values = [0, 0, 1.0, 0, 0]\n",
        "greedy_agent.arm_count = [0, 1, 0, 0, 0]\n",
        "greedy_agent.last_action = 1\n",
        "\n",
        "# tагент выполняет шаг\n",
        "action = greedy_agent.agent_step(reward=1, observation=0)\n",
        "\n",
        "# убедиться, что агент выбирает действие жадно\n",
        "assert action == 2\n",
        "\n",
        "# убедиться, что q_values было обновлено корректно\n",
        "assert greedy_agent.q_values == [0, 0.5, 1.0, 0, 0]"
      ],
      "execution_count": null,
      "outputs": []
    },
    {
      "cell_type": "markdown",
      "metadata": {
        "deletable": false,
        "editable": false,
        "nbgrader": {
          "cell_type": "markdown",
          "checksum": "90a42fd6968847f33177fb88b0154707",
          "grade": false,
          "grade_id": "cell-0edf7d5d440cdc40",
          "locked": true,
          "schema_version": 3,
          "solution": false
        },
        "id": "WeCjCD7F4o7W"
      },
      "source": [
        "Визуализируем результат. Здесь мы проведем эксперимент с использованием RL-Glue для тестирования нашего агента. Для начала мы настроим код эксперимента; в будущих уроках вы будете делать это самостоятельно."
      ]
    },
    {
      "cell_type": "code",
      "metadata": {
        "deletable": false,
        "editable": false,
        "nbgrader": {
          "cell_type": "code",
          "checksum": "bba60ee62523862af65ca4b97dd0fcc6",
          "grade": false,
          "grade_id": "cell-13bf4a5ec5402a22",
          "locked": true,
          "schema_version": 3,
          "solution": false
        },
        "id": "cW-AAiSr4o7X"
      },
      "source": [
        "# ---------------\n",
        "# Дискуссионная ячейка\n",
        "# ---------------\n",
        "\n",
        "num_runs = 200                    # количество запусков эксперимента\n",
        "num_steps = 1000                  # Сколько раз агентом выбрана каждая рука\n",
        "env = ten_arm_env.Environment     # Устанавливаем, какую среду мы хотим использовать для тестирования\n",
        "agent = GreedyAgent               # Выбираем, какого агента мы хотим использовать\n",
        "agent_info = {\"num_actions\": 10}  # Передаем агенту необходимую информацию. (Здесь - сколько всего рук).\n",
        "env_info = {}                     # Передаем среде необходимую информацию. (В этом случае - ничего не передаем)\n",
        "\n",
        "all_averages = []\n",
        "\n",
        "average_best = 0\n",
        "for run in tqdm(range(num_runs)):           # tqdm - создает индикатор выполнения\n",
        "    np.random.seed(run)\n",
        "    \n",
        "    rl_glue = RLGlue(env, agent)          # Создает новый эксперимент RLGlue с окружением и агентом, которые мы выбрали выше.\n",
        "    rl_glue.rl_init(agent_info, env_info) # передаем RLGlue все, что нужно для инициализации агента и среды.\n",
        "    rl_glue.rl_start()                    # запускаем эксперимент\n",
        "\n",
        "    average_best += np.max(rl_glue.environment.arms)\n",
        "    \n",
        "    scores = [0]\n",
        "    averages = []\n",
        "    \n",
        "    for i in range(num_steps):\n",
        "        reward, _, action, _ = rl_glue.rl_step() # Среда и агент делают шаг и возвращают\n",
        "                                                 # награду и выбранное действие.\n",
        "        scores.append(scores[-1] + reward)\n",
        "        averages.append(scores[-1] / (i + 1))\n",
        "    all_averages.append(averages)\n",
        "\n",
        "plt.figure(figsize=(15, 5), dpi= 80, facecolor='w', edgecolor='k')\n",
        "plt.plot([average_best / num_runs for _ in range(num_steps)], linestyle=\"--\")\n",
        "plt.plot(np.mean(all_averages, axis=0))\n",
        "plt.legend([\"Среда и агент делают шаг и возвращаются\", \"Жадный\"])\n",
        "plt.title(\"Средняя награда жадного агента\")\n",
        "plt.xlabel(\"Шаги\")\n",
        "plt.ylabel(\"средняя награда\")\n",
        "plt.show()\n",
        "greedy_scores = np.mean(all_averages, axis=0)"
      ],
      "execution_count": null,
      "outputs": []
    },
    {
      "cell_type": "markdown",
      "metadata": {
        "deletable": false,
        "editable": false,
        "nbgrader": {
          "cell_type": "markdown",
          "checksum": "6d222d49d1f2106fdc61c071b05133e3",
          "grade": false,
          "grade_id": "cell-5db366a4fb0be46e",
          "locked": true,
          "schema_version": 3,
          "solution": false,
          "task": false
        },
        "id": "Pev8Lb-h4o7Z"
      },
      "source": [
        "Как дела у нашего агента? Можно ли сделать лучше?"
      ]
    },
    {
      "cell_type": "markdown",
      "metadata": {
        "deletable": false,
        "editable": false,
        "nbgrader": {
          "cell_type": "markdown",
          "checksum": "e097e83bdc2cb91f5f54d2ed0a80c79e",
          "grade": false,
          "grade_id": "cell-ca7a4ae176f250d1",
          "locked": true,
          "schema_version": 3,
          "solution": false,
          "task": false
        },
        "id": "_1sIcszD4o7a"
      },
      "source": [
        "## Раздел 2: Epsilon-жадный агент"
      ]
    },
    {
      "cell_type": "markdown",
      "metadata": {
        "deletable": false,
        "editable": false,
        "nbgrader": {
          "cell_type": "markdown",
          "checksum": "9130c5614d2ba27c32e5fe6173a54af7",
          "grade": false,
          "grade_id": "cell-04a8bd103b7af798",
          "locked": true,
          "schema_version": 3,
          "solution": false
        },
        "id": "8y26U9Y84o7a"
      },
      "source": [
        "\n",
        "Мы узнали о другом способ работы агента(раздел \"компромисс разведка-эксплуатация\" в лекции \"Многорукий бандит\"), где он не всегда проявляет жадность. Вместо этого иногда требуется исследовательское действие. Он делает это для того, чтобы узнать, какое действие на самом деле лучше всего. Если мы всегда выбираем только то, что, по нашему мнению, является лучшим действием на данный момент, мы можем упустить возможность выбрать действительно лучшее действие, потому что мы не узнавали какие еще бывают действия, или, другими словами, не делали разведку.\n",
        "\n",
        "Реализация epsilon-greedy agent ниже. Мы реализуем алгоритм из раздела \"Инкрементная реализация\". Вы можете использовать свой жадный код сверху и посмотреть в [np.random.random](https://docs.scipy.org/doc/numpy/reference/generated/numpy.random.random.html), а так же [np.random.randint](https://docs.scipy.org/doc/numpy/reference/generated/numpy.random.randint.html), для помощи в случайном выборе действия. "
      ]
    },
    {
      "cell_type": "code",
      "metadata": {
        "deletable": false,
        "nbgrader": {
          "cell_type": "code",
          "checksum": "d8598190c401a85561155c94f1b7e24d",
          "grade": false,
          "grade_id": "cell-6862cb5ef5702d22",
          "locked": false,
          "schema_version": 3,
          "solution": true
        },
        "id": "iEsKxjO24o7b"
      },
      "source": [
        "\n",
        "class EpsilonGreedyAgent(main_agent.Agent):\n",
        "    def agent_step(self, reward, observation):\n",
        "        \"\"\"\n",
        "        Takes one step for the agent. It takes in a reward and observation and \n",
        "        returns the action the agent chooses at that time step.\n",
        "        \n",
        "        Arguments:\n",
        "        reward -- float, the reward the agent recieved from the environment after taking the last action.\n",
        "        observation -- float, the observed state the agent is in. Do not worry about this as you will not use it\n",
        "                              until future lessons\n",
        "        Returns:\n",
        "        current_action -- int, the action chosen by the agent at the current time step.\n",
        "        \"\"\"\n",
        "        \n",
        "        ### Useful Class Variables ###\n",
        "        # self.q_values : Массив, содержащий, по мнению агента, ценности каждой руки.\n",
        "        # self.arm_count : Массив с подсчетом количества выбора каждой руки.\n",
        "        # self.last_action : Действие, которое агент предпринял на предыдущем шаге времени.\n",
        "        # self.epsilon : Вероятность того, что эпсилон-жадный агент  будет разведывать (колеблется от 0 до 1)\n",
        "        #######################\n",
        "        \n",
        "        # Обновление ценностей Q - это должно быть то же обновление, что и у вашего жадного агента выше\n",
        "        # ВАШ КОД ЗДЕСЬ\n",
        "        raise NotImplementedError()\n",
        "        \n",
        "        # Выбрать действие, используя эпсилон-жадность\n",
        "        # Случайно выбрать число от 0 до 1 и посмотреть, не меньше ли оно, чем self.epsilon\n",
        "        # (подсказка: загляните в np.random.random()). Если это так, установите для current_action случайное действие.\n",
        "        # в противном случае жадно выбирайте current_action, как делали выше.\n",
        "        # ВАШ КОД ЗДЕСЬ\n",
        "        raise NotImplementedError()\n",
        "        \n",
        "        self.last_action = current_action\n",
        "        \n",
        "        return current_action"
      ],
      "execution_count": null,
      "outputs": []
    },
    {
      "cell_type": "code",
      "metadata": {
        "id": "UbkKKtaE4o7d"
      },
      "source": [
        "# --------------\n",
        "# Отладочная ячейка\n",
        "# --------------\n",
        "\n",
        "# сделать фейкового агента для тестирования и установки некоторых начальных ограничений\n",
        "np.random.seed(0)\n",
        "e_greedy_agent = EpsilonGreedyAgent()\n",
        "e_greedy_agent.q_values = [0, 0.0, 0.5, 0, 0]\n",
        "e_greedy_agent.arm_count = [0, 1, 0, 0, 0]\n",
        "e_greedy_agent.num_actions = 5\n",
        "e_greedy_agent.last_action = 1\n",
        "e_greedy_agent.epsilon = 0.5\n",
        "\n",
        "# учитывая random.seed, мы должны увидеть здесь жадное действие (действие 2)\n",
        "action = e_greedy_agent.agent_step(reward=1, observation=0)\n",
        "\n",
        "# -----------------------------------------------\n",
        "# попробуем угадать несколько более сложных мест\n",
        "# -----------------------------------------------\n",
        "\n",
        "# убедиться, что обновляете *last_action*, а не текущее действие\n",
        "assert e_greedy_agent.q_values != [0, 0.5, 1.0, 0, 0], \"A\"\n",
        "\n",
        "# убедиться, что stepsize основывается на *last_action* а не на текущем действии\n",
        "assert e_greedy_agent.q_values != [0, 1, 0.5, 0, 0], \"B\"\n",
        "\n",
        "# убедитесь, что агент использует argmax, который выбирает максимальные случайным образом\n",
        "assert action == 2, \"C\"\n",
        "\n",
        "# -----------------------------------------------\n",
        "\n",
        "# посмотрим, что произойдет с другим действием\n",
        "np.random.seed(1)\n",
        "e_greedy_agent = EpsilonGreedyAgent()\n",
        "e_greedy_agent.q_values = [0, 0.5, 0.5, 0, 0]\n",
        "e_greedy_agent.arm_count = [0, 1, 0, 0, 0]\n",
        "e_greedy_agent.num_actions = 5\n",
        "e_greedy_agent.last_action = 1\n",
        "e_greedy_agent.epsilon = 0.5\n",
        "\n",
        "# учитывая этот random.seed, мы должны увидеть здесь случайное действие (действие 4)\n",
        "action = e_greedy_agent.agent_step(reward=1, observation=0)\n",
        "\n",
        "# Агент увидел награду 1, поэтому следует увеличить значение для *last_action*\n",
        "assert e_greedy_agent.q_values == [0, 0.75, 0.5, 0, 0], \"D\"\n",
        "\n",
        "# агент должен был выбрать случайное действие для этого конкретного случайного числа\n",
        "assert action == 4, \"E\"\n"
      ],
      "execution_count": null,
      "outputs": []
    },
    {
      "cell_type": "code",
      "metadata": {
        "deletable": false,
        "editable": false,
        "nbgrader": {
          "cell_type": "code",
          "checksum": "e90fd67af1fe48141bd6d286262c4fca",
          "grade": true,
          "grade_id": "cell-3099aff70dfd2e61",
          "locked": true,
          "points": 10,
          "schema_version": 3,
          "solution": false
        },
        "id": "KQ7J0Mmw4o7g"
      },
      "source": [
        "# -----------\n",
        "# Тестовая ячейка\n",
        "# -----------\n",
        "\n",
        "np.random.seed(0)\n",
        "e_greedy_agent = EpsilonGreedyAgent()\n",
        "e_greedy_agent.q_values = [0, 0, 1.0, 0, 0]\n",
        "e_greedy_agent.arm_count = [0, 1, 0, 0, 0]\n",
        "e_greedy_agent.num_actions = 5\n",
        "e_greedy_agent.last_action = 1\n",
        "e_greedy_agent.epsilon = 0.5\n",
        "action = e_greedy_agent.agent_step(reward=1, observation=0)\n",
        "\n",
        "assert e_greedy_agent.q_values == [0, 0.5, 1.0, 0, 0]\n",
        "\n",
        "# \n",
        "манипулировать random.seed, чтобы агент выполнял случайное действие\n",
        "np.random.seed(1)\n",
        "action = e_greedy_agent.agent_step(reward=0, observation=0)\n",
        "\n",
        "assert action == 4\n",
        "\n",
        "# убедиться, что ценность действия 4 обновилась\n",
        "action = e_greedy_agent.agent_step(reward=1, observation=0)\n",
        "assert e_greedy_agent.q_values == [0, 0.5, 0.0, 0, 1.0]"
      ],
      "execution_count": null,
      "outputs": []
    },
    {
      "cell_type": "markdown",
      "metadata": {
        "deletable": false,
        "editable": false,
        "nbgrader": {
          "cell_type": "markdown",
          "checksum": "5488f20b68110a856dad3a003f51db32",
          "grade": false,
          "grade_id": "cell-762b0b3997c2300f",
          "locked": true,
          "schema_version": 3,
          "solution": false
        },
        "id": "GpLCpZER4o7j"
      },
      "source": [
        "Now that we have our epsilon greedy agent created. Let's compare it against the greedy agent with epsilon of 0.1."
      ]
    },
    {
      "cell_type": "code",
      "metadata": {
        "deletable": false,
        "editable": false,
        "nbgrader": {
          "cell_type": "code",
          "checksum": "f6f2f652f24d56bb35a740579b771138",
          "grade": false,
          "grade_id": "cell-2f6cef9d3ecdace7",
          "locked": true,
          "schema_version": 3,
          "solution": false
        },
        "id": "XW_YHLdH4o7j"
      },
      "source": [
        "# ---------------\n",
        "# Дискуссионная ячейка\n",
        "# ---------------\n",
        "\n",
        "# Рисует результаты Epsilon-жадных и жадных\n",
        "num_runs = 200\n",
        "num_steps = 1000\n",
        "epsilon = 0.1\n",
        "agent = EpsilonGreedyAgent\n",
        "env = ten_arm_env.Environment\n",
        "agent_info = {\"num_actions\": 10, \"epsilon\": epsilon}\n",
        "env_info = {}\n",
        "all_averages = []\n",
        "\n",
        "for run in tqdm(range(num_runs)):\n",
        "    np.random.seed(run)\n",
        "    \n",
        "    rl_glue = RLGlue(env, agent)\n",
        "    rl_glue.rl_init(agent_info, env_info)\n",
        "    rl_glue.rl_start()\n",
        "\n",
        "    scores = [0]\n",
        "    averages = []\n",
        "    for i in range(num_steps):\n",
        "        reward, _, action, _ = rl_glue.rl_step() # Среда и агент делают шаг и возвращают\n",
        "                                                 # награду и выбранное действие.\n",
        "        scores.append(scores[-1] + reward)\n",
        "        averages.append(scores[-1] / (i + 1))\n",
        "    all_averages.append(averages)\n",
        "\n",
        "plt.figure(figsize=(15, 5), dpi= 80, facecolor='w', edgecolor='k')\n",
        "plt.plot([1.55 for _ in range(num_steps)], linestyle=\"--\")\n",
        "plt.plot(greedy_scores)\n",
        "plt.title(\"сравнение средних наград епсилон-жадого и жадного\")\n",
        "plt.plot(np.mean(all_averages, axis=0))\n",
        "plt.legend((\"Наилучшее из возможных\", \"Жадный\", \"Эпсилон: 0.1\"))\n",
        "plt.xlabel(\"Шаги\")\n",
        "plt.ylabel(\"Средняя награда\")\n",
        "plt.show()"
      ],
      "execution_count": null,
      "outputs": []
    },
    {
      "cell_type": "markdown",
      "metadata": {
        "deletable": false,
        "editable": false,
        "nbgrader": {
          "cell_type": "markdown",
          "checksum": "ed0fa5039cf69237a1caf29b273b2942",
          "grade": false,
          "grade_id": "cell-23cf04f952075345",
          "locked": true,
          "schema_version": 3,
          "solution": false
        },
        "id": "oXdwONND4o7m"
      },
      "source": [
        "Обратите внимание, насколько лучше работает эпсилон-жадный агент. Поскольку мы время от времени выбираем случайное действие, мы смогли найти лучшую долгосрочную политику. Действуя жадно до того, как наши оценки ценности станут точными, мы рискуем выбрать неоптимальные действия."
      ]
    },
    {
      "cell_type": "markdown",
      "metadata": {
        "deletable": false,
        "editable": false,
        "nbgrader": {
          "cell_type": "markdown",
          "checksum": "6057919769dc2349ccb835468c218ff2",
          "grade": false,
          "grade_id": "cell-edb9184608392c62",
          "locked": true,
          "schema_version": 3,
          "solution": false
        },
        "id": "RtLycjmM4o7m"
      },
      "source": [
        "## Раздел 2.1 Усреднение многократных запусков"
      ]
    },
    {
      "cell_type": "markdown",
      "metadata": {
        "deletable": false,
        "editable": false,
        "nbgrader": {
          "cell_type": "markdown",
          "checksum": "7c51be606d9d6554fdd916078b0bda57",
          "grade": false,
          "grade_id": "cell-1b55f263f08b1389",
          "locked": true,
          "schema_version": 3,
          "solution": false
        },
        "id": "l7JyJTBm4o7n"
      },
      "source": [
        "Вы заметили, что мы набрали в среднем более 2000 прогонов? Почему мы это сделали?\n",
        "\n",
        "Чтобы получить некоторое представление, давайте посмотрим на результаты двух отдельных запусков одного и того же агента."
      ]
    },
    {
      "cell_type": "code",
      "metadata": {
        "deletable": false,
        "editable": false,
        "nbgrader": {
          "cell_type": "code",
          "checksum": "9896340e89e8cd11bb0a90ef048e9084",
          "grade": false,
          "grade_id": "cell-69d62e83fc1d91bc",
          "locked": true,
          "schema_version": 3,
          "solution": false
        },
        "id": "kpJ8i-614o7n"
      },
      "source": [
        "# ---------------\n",
        "# Дискуссионная ячейка\n",
        "# ---------------\n",
        "\n",
        "# график запусков e-greedy агента\n",
        "agent = EpsilonGreedyAgent\n",
        "env = ten_arm_env.Environment\n",
        "agent_info = {\"num_actions\": 10, \"epsilon\": 0.1}\n",
        "env_info = {}\n",
        "all_averages = []\n",
        "plt.figure(figsize=(15, 5), dpi= 80, facecolor='w', edgecolor='k')\n",
        "num_steps = 1000\n",
        "\n",
        "for run in (0, 1):\n",
        "    np.random.seed(run) # Здесь мы устанавливаем seed, чтобы сравнить два разных запуска\n",
        "    averages = []\n",
        "    rl_glue = RLGlue(env, agent)\n",
        "    rl_glue.rl_init(agent_info, env_info)\n",
        "    rl_glue.rl_start()\n",
        "\n",
        "    scores = [0]\n",
        "    for i in range(num_steps):\n",
        "        reward, state, action, is_terminal = rl_glue.rl_step()\n",
        "        scores.append(scores[-1] + reward)\n",
        "        averages.append(scores[-1] / (i + 1))\n",
        "    \n",
        "    plt.plot(averages)\n",
        "\n",
        "plt.title(\"Сравнение двух независисмых запусков\")\n",
        "plt.xlabel(\"Шаги\")\n",
        "plt.ylabel(\"Средняя награда\")\n",
        "plt.show()"
      ],
      "execution_count": null,
      "outputs": []
    },
    {
      "cell_type": "markdown",
      "metadata": {
        "deletable": false,
        "editable": false,
        "nbgrader": {
          "cell_type": "markdown",
          "checksum": "9c6b5d4ea841a388245eb1fdc732a3ed",
          "grade": false,
          "grade_id": "cell-cbabc6468847faab",
          "locked": true,
          "schema_version": 3,
          "solution": false
        },
        "id": "90sNmrPR4o7q"
      },
      "source": [
        "Обратите внимание, как отличаются эти два запуска. Но если это один и тот же алгоритм, почему он по-разному ведет себя в этих двух прогонах?\n",
        "\n",
        "Ответ в том, что это происходит из-за случайностей в среде и агенте. В зависимости от того, с какого случайного действия начинает агент или когда он случайным образом выбирает разведку, изменяются результаты запусков. И даже если агент выбирает то же действие, награда из среды случайным образом выбирается из гауссианы. Агенту может повезти, и он получит большие награды за лучшее действие на ранней стадии и, таким образом, быстрее выберет лучшее действие. Или ему может не повезти и он получит меньшие награды за лучшее действие на раннем этапе, и поэтому потребуется больше времени, чтобы понять, что это на самом деле лучшее действие.\n",
        "\n",
        "Чтобы быть более конкретным, давайте посмотрим, сколько раз выполняется разведка для разных seeds."
      ]
    },
    {
      "cell_type": "code",
      "metadata": {
        "deletable": false,
        "editable": false,
        "nbgrader": {
          "cell_type": "code",
          "checksum": "27f087a7a6f92b6ba2461d66dfc64779",
          "grade": false,
          "grade_id": "cell-a6e9ef699d799240",
          "locked": true,
          "schema_version": 3,
          "solution": false
        },
        "id": "XwxRBLIf4o7q"
      },
      "source": [
        "# ---------------\n",
        "# Дискуссионная ячейка\n",
        "# ---------------\n",
        "print(\"Random Seed 1\")\n",
        "np.random.seed(1)\n",
        "for _ in range(15):\n",
        "    if np.random.random() < 0.1:\n",
        "        print(\"Разведка\")\n",
        "    \n",
        "\n",
        "print()\n",
        "print()\n",
        "\n",
        "print(\"Random Seed 2\")\n",
        "np.random.seed(2)\n",
        "for _ in range(15):\n",
        "    if np.random.random() < 0.1:\n",
        "        print(\"Разведка\")"
      ],
      "execution_count": null,
      "outputs": []
    },
    {
      "cell_type": "markdown",
      "metadata": {
        "deletable": false,
        "editable": false,
        "nbgrader": {
          "cell_type": "markdown",
          "checksum": "bc8ff22ac82750f9eb3e0f901d5f4166",
          "grade": false,
          "grade_id": "cell-42f5c9cb11fffbb0",
          "locked": true,
          "schema_version": 3,
          "solution": false
        },
        "id": "M1juL9h_4o7s"
      },
      "source": [
        "С первым seed мы разведываем три раза из 15, но со вторым мы разведываем только один раз. Это может существенно повлиять на производительность нашего агента, потому что количество разведок, во время которых награды выбираются  неоптимально, значительно отличается.\n",
        "\n",
        "Поэтому для сравнения алгоритмов мы выводим производительность, усредненную по многим запускам. Мы делаем это, чтобы гарантировать, что мы не просто выводим результат, связанный со стохастичностью. Скорее, нам нужны статистически значимые результаты. В этом курсе мы не будем использовать тесты статистической значимости. Вместо этого, поскольку у нас есть доступ к симуляторам для наших экспериментов, мы используем более простую стратегию выполнения большого количества запусков и обеспечим, чтобы доверительные интервалы не перекрывались."
      ]
    },
    {
      "cell_type": "markdown",
      "metadata": {
        "deletable": false,
        "editable": false,
        "nbgrader": {
          "cell_type": "markdown",
          "checksum": "65cc408096713cec77d263be0fd90b0d",
          "grade": false,
          "grade_id": "cell-1d4132f4b28f4881",
          "locked": true,
          "schema_version": 3,
          "solution": false
        },
        "id": "YxnSTYtI4o7t"
      },
      "source": [
        "## Раздел 3: Сравение значений для епсилон"
      ]
    },
    {
      "cell_type": "markdown",
      "metadata": {
        "deletable": false,
        "editable": false,
        "nbgrader": {
          "cell_type": "markdown",
          "checksum": "81b41ca2616b4d370e19c911cf4ab88e",
          "grade": false,
          "grade_id": "cell-f62fa977aac5da68",
          "locked": true,
          "schema_version": 3,
          "solution": false
        },
        "id": "lQBX34WX4o7t"
      },
      "source": [
        "Можем ли мы сделать лучше, чем epsilon=0,1? Давайте попробуем несколько разных значений epsilon и посмотрим, как они работают. Мы попробуем разные настройки ключевых параметров производительности, чтобы понять, как агент может работать в разных условиях.\n",
        "\n",
        "Ниже мы проводим эксперимент, в котором мы перебираем разные значения для epsilon:"
      ]
    },
    {
      "cell_type": "code",
      "metadata": {
        "deletable": false,
        "editable": false,
        "nbgrader": {
          "cell_type": "code",
          "checksum": "e1e772b65c6e29c699f2fb141c37df73",
          "grade": false,
          "grade_id": "cell-4c9881740ba46656",
          "locked": true,
          "schema_version": 3,
          "solution": false
        },
        "id": "ran4BTme4o7u"
      },
      "source": [
        "# ---------------\n",
        "# Дискуссионная ячейка\n",
        "# ---------------\n",
        "\n",
        "# Эксперимент для разных e-greedy\n",
        "epsilons = [0.0, 0.01, 0.1, 0.4]\n",
        "\n",
        "plt.figure(figsize=(15, 5), dpi= 80, facecolor='w', edgecolor='k')\n",
        "plt.plot([1.55 for _ in range(num_steps)], linestyle=\"--\")\n",
        "\n",
        "n_q_values = []\n",
        "n_averages = []\n",
        "n_best_actions = []\n",
        "\n",
        "num_runs = 200\n",
        "\n",
        "for epsilon in epsilons:\n",
        "    all_averages = []\n",
        "    for run in tqdm(range(num_runs)):\n",
        "        agent = EpsilonGreedyAgent\n",
        "        agent_info = {\"num_actions\": 10, \"epsilon\": epsilon}\n",
        "        env_info = {\"random_seed\": run}\n",
        "\n",
        "        rl_glue = RLGlue(env, agent)\n",
        "        rl_glue.rl_init(agent_info, env_info)\n",
        "        rl_glue.rl_start()\n",
        "        \n",
        "        best_arm = np.argmax(rl_glue.environment.arms)\n",
        "\n",
        "        scores = [0]\n",
        "        averages = []\n",
        "        best_action_chosen = []\n",
        "        \n",
        "        for i in range(num_steps):\n",
        "            reward, state, action, is_terminal = rl_glue.rl_step()\n",
        "            scores.append(scores[-1] + reward)\n",
        "            averages.append(scores[-1] / (i + 1))\n",
        "            if action == best_arm:\n",
        "                best_action_chosen.append(1)\n",
        "            else:\n",
        "                best_action_chosen.append(0)\n",
        "            if epsilon == 0.1 and run == 0:\n",
        "                n_q_values.append(np.copy(rl_glue.agent.q_values))\n",
        "        if epsilon == 0.1:\n",
        "            n_averages.append(averages)\n",
        "            n_best_actions.append(best_action_chosen)\n",
        "        all_averages.append(averages)\n",
        "        \n",
        "    plt.plot(np.mean(all_averages, axis=0))\n",
        "\n",
        "plt.legend([\"Лучшее из возможных\"] + epsilons)\n",
        "plt.xlabel(\"Шаги\")\n",
        "plt.ylabel(\"средняя награда\")\n",
        "plt.show()"
      ],
      "execution_count": null,
      "outputs": []
    },
    {
      "cell_type": "markdown",
      "metadata": {
        "deletable": false,
        "editable": false,
        "nbgrader": {
          "cell_type": "markdown",
          "checksum": "621e4edf3ee0456e562f8f61899fafd8",
          "grade": false,
          "grade_id": "cell-1763c2a2a2863158",
          "locked": true,
          "schema_version": 3,
          "solution": false
        },
        "id": "yhAxApC24o7w"
      },
      "source": [
        "Почему 0,1 оказался лучше 0,01?\n",
        "\n",
        "Если разведка помогает, почему 0,4 работает хуже, чем 0,0 (жадный агент)?\n",
        "\n",
        "Подумайте, как бы вы ответили на эти вопросы. Это вопросы были в тесте. Если у вас все еще есть вопросы, повторите тест."
      ]
    },
    {
      "cell_type": "markdown",
      "metadata": {
        "deletable": false,
        "editable": false,
        "nbgrader": {
          "cell_type": "markdown",
          "checksum": "4107b76e0b504556e7760f38c7c603b2",
          "grade": false,
          "grade_id": "cell-7f65b4e031a22732",
          "locked": true,
          "schema_version": 3,
          "solution": false
        },
        "id": "8kFxEDcL4o7x"
      },
      "source": [
        "## Раздел 4: влияние размера шага"
      ]
    },
    {
      "cell_type": "markdown",
      "metadata": {
        "deletable": false,
        "editable": false,
        "nbgrader": {
          "cell_type": "markdown",
          "checksum": "dacfdaab4566f744379cf2b63aa38125",
          "grade": false,
          "grade_id": "cell-a12e885539decec6",
          "locked": true,
          "schema_version": 3,
          "solution": false
        },
        "id": "rV55gTZh4o7x"
      },
      "source": [
        "В Разделе 1 этого задания мы уменьшали размер шага с течением времени на основе подсчета выбора действий. Размер шага был $\\frac{1}{N(A)}$ , где N(A) - сколько раз было выбрано действие A. Это то же самое, что и вычисление среднего по выборке. Мы также можем сделать размер шага постоянным, например 0,1. Каков будет эффект от этого? И что лучше: метод постоянного или среднего по выборке?\n",
        "\n",
        "Чтобы исследовать этот вопрос, давайте начнем с создания нового агента с постоянным размером шага. Он будет почти идентичен агенту, созданному выше. Вы будете использовать тот же код для epsilon-жадного выбора действия. Вы измените обновление на постоянный размер шага вместо использования обновления $\\frac{1}{N(A)}$."
      ]
    },
    {
      "cell_type": "code",
      "metadata": {
        "deletable": false,
        "nbgrader": {
          "cell_type": "code",
          "checksum": "706014b629a7e271074f562e910272ae",
          "grade": false,
          "grade_id": "cell-fe26903228ef0c50",
          "locked": false,
          "schema_version": 3,
          "solution": true
        },
        "id": "cMt765R24o7y"
      },
      "source": [
        "\n",
        "class EpsilonGreedyAgentConstantStepsize(main_agent.Agent):\n",
        "    def agent_step(self, reward, observation):\n",
        "        \"\"\"\n",
        "        Делает один шаг за агента. Получает награду и разведку и\n",
        "         возвращает действие, которое агент выбирает на этом шаге времени.\n",
        "        \n",
        "        Аргументы:\n",
        "         reward - float, награда, полученная агентом от окружения после выполнения последнего действия.\n",
        "         observation - float, наблюдаемое состояние, в котором находится агент. Не беспокойтесь об этом, так как вы не будете его использовать\n",
        "                               до будущих уроков\n",
        "        Возврат:\n",
        "         current_action - int, действие, выбранное агентом на текущем временном шаге.\n",
        "        \"\"\"\n",
        "        \n",
        "        ### Useful Class Variables ###\n",
        "        # self.q_values: массив, содержащий, по мнению агента, ценности каждой руки.\n",
        "        # self.arm_count: массив со счетчиком количества выбора каждой руки.\n",
        "        # self.last_action: int, действие, которое агент выполнил на предыдущем временном шаге.\n",
        "        # self.step_size: float, текущий размер шага агента.\n",
        "        # self.epsilon: вероятность разведки эпсилон-жадного агента(от 0 до 1)\n",
        "        #######################\n",
        "        \n",
        "        # Обновить q_values для действий, предпринятых на предыдущем временном шаге\n",
        "        # используя self.step_size вместо self.arm_count\n",
        "        # ВАШ КОД ЗДЕСЬ\n",
        "        raise NotImplementedError()\n",
        "        \n",
        "        # Выберите действие с эпсилон-жадным. Это то же самое, что вы реализовали выше.\n",
        "        # ВАШ КОД ЗДЕСЬ\n",
        "        raise NotImplementedError()\n",
        "        \n",
        "        self.last_action = current_action\n",
        "        \n",
        "        return current_action"
      ],
      "execution_count": null,
      "outputs": []
    },
    {
      "cell_type": "code",
      "metadata": {
        "id": "gypNp8u-4o70"
      },
      "source": [
        "# --------------\n",
        "# Отладочная ячейка\n",
        "# --------------\n",
        "\n",
        "for step_size in [0.01, 0.1, 0.5, 1.0]:\n",
        "    e_greedy_agent = EpsilonGreedyAgentConstantStepsize()\n",
        "    e_greedy_agent.q_values = [0, 0, 1.0, 0, 0]\n",
        "    e_greedy_agent.num_actions = 5\n",
        "    e_greedy_agent.last_action = 1\n",
        "    e_greedy_agent.epsilon = 0.0\n",
        "    e_greedy_agent.step_size = step_size\n",
        "    action = e_greedy_agent.agent_step(1, 0)\n",
        "    assert e_greedy_agent.q_values == [0, step_size, 1.0, 0, 0], \"Убедитесь, что вы правильно обновляете q_values, используя размер шага.\""
      ],
      "execution_count": null,
      "outputs": []
    },
    {
      "cell_type": "code",
      "metadata": {
        "deletable": false,
        "editable": false,
        "nbgrader": {
          "cell_type": "code",
          "checksum": "ea1160cbc12cb030918b93b5b5f8bb80",
          "grade": true,
          "grade_id": "cell-ba6bdf28928e3042",
          "locked": true,
          "points": 10,
          "schema_version": 3,
          "solution": false
        },
        "id": "fiaMgFT84o72"
      },
      "source": [
        "# -----------\n",
        "# Тестовая ячейка\n",
        "# -----------\n",
        "\n",
        "np.random.seed(0)\n",
        "# Проверить Epsilon Greedy с разными постоянными размерами шага\n",
        "for step_size in [0.01, 0.1, 0.5, 1.0]:\n",
        "    e_greedy_agent = EpsilonGreedyAgentConstantStepsize()\n",
        "    e_greedy_agent.q_values = [0, 0, 1.0, 0, 0]\n",
        "    e_greedy_agent.num_actions = 5\n",
        "    e_greedy_agent.last_action = 1\n",
        "    e_greedy_agent.epsilon = 0.0\n",
        "    e_greedy_agent.step_size = step_size\n",
        "    \n",
        "    action = e_greedy_agent.agent_step(1, 0)\n",
        "    \n",
        "    assert e_greedy_agent.q_values == [0, step_size, 1.0, 0, 0]    "
      ],
      "execution_count": null,
      "outputs": []
    },
    {
      "cell_type": "code",
      "metadata": {
        "deletable": false,
        "editable": false,
        "nbgrader": {
          "cell_type": "code",
          "checksum": "8323b6b759f469c5a8fc9107f5ac721e",
          "grade": false,
          "grade_id": "cell-a5d327f4d52578e6",
          "locked": true,
          "schema_version": 3,
          "solution": false
        },
        "id": "iGxya0Kt4o74"
      },
      "source": [
        "# ---------------\n",
        "# Дискуссионная ячейка\n",
        "# ---------------\n",
        "\n",
        "# Эксперимент для разных размеров шага\n",
        "step_sizes = [0.01, 0.1, 0.5, 1.0, '1/N(A)']\n",
        "\n",
        "epsilon = 0.1\n",
        "num_steps = 1000\n",
        "num_runs = 200\n",
        "\n",
        "fig, ax = plt.subplots(figsize=(15, 5), dpi= 80, facecolor='w', edgecolor='k')\n",
        "\n",
        "q_values = {step_size: [] for step_size in step_sizes}\n",
        "true_values = {step_size: None for step_size in step_sizes}\n",
        "best_actions = {step_size: [] for step_size in step_sizes}\n",
        "\n",
        "for step_size in step_sizes:\n",
        "    all_averages = []\n",
        "    for run in tqdm(range(num_runs)):\n",
        "        np.random.seed(run)\n",
        "        agent = EpsilonGreedyAgentConstantStepsize if step_size != '1/N(A)' else EpsilonGreedyAgent\n",
        "        agent_info = {\"num_actions\": 10, \"epsilon\": epsilon, \"step_size\": step_size, \"initial_value\": 0.0}\n",
        "        env_info = {}\n",
        "\n",
        "        rl_glue = RLGlue(env, agent)\n",
        "        rl_glue.rl_init(agent_info, env_info)\n",
        "        rl_glue.rl_start()\n",
        "        \n",
        "        best_arm = np.argmax(rl_glue.environment.arms)\n",
        "\n",
        "        scores = [0]\n",
        "        averages = []\n",
        "        \n",
        "        if run == 0:\n",
        "            true_values[step_size] = np.copy(rl_glue.environment.arms)\n",
        "            \n",
        "        best_action_chosen = []\n",
        "        for i in range(num_steps):\n",
        "            reward, state, action, is_terminal = rl_glue.rl_step()\n",
        "            scores.append(scores[-1] + reward)\n",
        "            averages.append(scores[-1] / (i + 1))\n",
        "            if action == best_arm:\n",
        "                best_action_chosen.append(1)\n",
        "            else:\n",
        "                best_action_chosen.append(0)\n",
        "            if run == 0:\n",
        "                q_values[step_size].append(np.copy(rl_glue.agent.q_values))\n",
        "        best_actions[step_size].append(best_action_chosen)\n",
        "    ax.plot(np.mean(best_actions[step_size], axis=0))\n",
        "\n",
        "plt.legend(step_sizes)\n",
        "plt.title(\"% раз выбрано лучшее действие\")\n",
        "plt.xlabel(\"Шаги\")\n",
        "plt.ylabel(\"% раз выбрано лучшее действие\")\n",
        "vals = ax.get_yticks()\n",
        "ax.set_yticklabels(['{:,.2%}'.format(x) for x in vals])\n",
        "plt.show()"
      ],
      "execution_count": null,
      "outputs": []
    },
    {
      "cell_type": "markdown",
      "metadata": {
        "deletable": false,
        "editable": false,
        "nbgrader": {
          "cell_type": "markdown",
          "checksum": "4490c3113b9b460e79a0f92ae6fb2433",
          "grade": false,
          "grade_id": "cell-6704fdb6f4f612fb",
          "locked": true,
          "schema_version": 3,
          "solution": false
        },
        "id": "_ywBSZii4o76"
      },
      "source": [
        "Во-первых, обратите внимание, что теперь мы выводим время, за  которое предпринимается лучшее действие, а не среднюю награду. Чтобы лучше понять производительность агента, может быть полезно измерить конкретное поведение, помимо накопленного вознаграждения. Этот показатель показывает, насколько поведение агента близко к оптимальному.\n",
        "\n",
        "It seems as though 1/N(A) performed better than the others, in that it reaches a solution where it takes the best action most frequently. Now why might this be? Why did a step size of 0.5 start out better but end up performing worse? Why did a step size of 0.01 perform so poorly?\n",
        "Кажется, что $\\frac{1}{N(A)}$ работает лучше, чем другие, в том смысле, что он достигает решения, при котором наиболее часто выбирается лучшее действие. Почему бы это могло быть? Почему размер шага 0,5 вначале лучше, но в итоге он работает хуже? Почему размер шага 0,01 так плохо работает?\n",
        "\n",
        "\n",
        "Давайте разберемся в этом. Посмотрим, насколько хорошо каждый агент следует за истинной ценностью, где у каждого агента есть свой метод размера шага. Вам не нужно здесь программировать, просто следуйте инструкциям."
      ]
    },
    {
      "cell_type": "code",
      "metadata": {
        "deletable": false,
        "editable": false,
        "nbgrader": {
          "cell_type": "code",
          "checksum": "57dc5b32de917599bd8d329382d04577",
          "grade": false,
          "grade_id": "cell-49e29a510956e277",
          "locked": true,
          "schema_version": 3,
          "solution": false
        },
        "id": "6Yz-SBcO4o76"
      },
      "source": [
        "# lock\n",
        "# ---------------\n",
        "# Discussion Cell\n",
        "# ---------------\n",
        "largest = 0\n",
        "num_steps = 1000\n",
        "for step_size in step_sizes:\n",
        "    plt.figure(figsize=(15, 5), dpi= 80, facecolor='w', edgecolor='k')\n",
        "    largest = np.argmax(true_values[step_size])\n",
        "    plt.plot([true_values[step_size][largest] for _ in range(num_steps)], linestyle=\"--\")\n",
        "    plt.title(\"Step Size: {}\".format(step_size))\n",
        "    plt.plot(np.array(q_values[step_size])[:, largest])\n",
        "    plt.legend([\"True Expected Value\", \"Estimated Value\"])\n",
        "    plt.xlabel(\"Steps\")\n",
        "    plt.ylabel(\"Value\")\n",
        "    plt.show()"
      ],
      "execution_count": null,
      "outputs": []
    },
    {
      "cell_type": "markdown",
      "metadata": {
        "deletable": false,
        "editable": false,
        "nbgrader": {
          "cell_type": "markdown",
          "checksum": "f0ecb1029a80a609aa9e18b280572f82",
          "grade": false,
          "grade_id": "cell-a0948edb96aacc70",
          "locked": true,
          "schema_version": 3,
          "solution": false
        },
        "id": "DFv8SgOv4o78"
      },
      "source": [
        "Эти графики помогают выяснить различия в производительности между шагами разных размеров. \n",
        "- Размер шага 0,01 приводит к таким небольшим обновлениям, что оценка агентом наилучшего действия не приближается к фактическому значению. \n",
        "- Размер шага 0,5 и 1,0 быстро приближаются к нужной ценности, но они очень чувствительны к стохастичности наград. Обновления слишком сильно корректируют недавние награды и колеблются вокруг истинной ценности. \n",
        "\n",
        "Это означает, что на многих этапах жадное действие может выглядеть хуже, чем оно есть. Размер шага 0,1 довольно быстро обновляется до истинного значения и не так сильно колеблется вокруг истинных ценностей, как 0,5 и 1,0. Это одна из причин того, что 0.1 работает достаточно хорошо. \n",
        "\n",
        "Наконец, мы видим, почему 1/N(A) показало себя хорошо. Вначале, когда размер шага все еще достаточно высок, он быстро приближается к истинному ожидаемому значению, но по мере увеличения N, размер шага уменьшается, что делает его менее восприимчивым к стохастичности вознаграждения.\n",
        "\n",
        "\n",
        "Означает ли это, что 1/N(A) всегда лучший метод? Когда это может быть не так?\n",
        "Одна из возможных ситуаций, когда шаг $\\frac{1}{N(A)}$ может оказаться неэффективным, - это нестационарные задачи. Вы слышали о нестационарности в лекциях. Нестационарность означает, что окружающая среда может со временем меняться. Это может проявляться как постоянное изменение окружающей среды с течением времени или внезапное изменение окружающей среды.\n",
        "\n",
        "Давайте посмотрим, как внезапное изменение в распределении вознаграждения влияет на размер шага 1/N(A). На этот раз мы запустим среду для 2000 шагов, а после 1000 шагов мы случайным образом изменим ожидаемое значение для всех рук. Мы сравниваем двух агентов, оба использующих epsilon-жадность с epsilon = 0.1. Один использует _постоянный размер шага_ 0.1, другой - _изменяемый размер шага_ 1/N(A)."
      ]
    },
    {
      "cell_type": "code",
      "metadata": {
        "deletable": false,
        "editable": false,
        "nbgrader": {
          "cell_type": "code",
          "checksum": "e6689cd070662940bf6c0f84a217c6ab",
          "grade": false,
          "grade_id": "cell-55536f4ac923ab96",
          "locked": true,
          "schema_version": 3,
          "solution": false
        },
        "id": "_ku-gQFG4o79"
      },
      "source": [
        "# ---------------\n",
        "# Дискуссионная ячейка\n",
        "# ---------------\n",
        "epsilon = 0.1\n",
        "num_steps = 2000\n",
        "num_runs = 200\n",
        "step_size = 0.1\n",
        "\n",
        "plt.figure(figsize=(15, 5), dpi= 80, facecolor='w', edgecolor='k')\n",
        "plt.plot([1.55 for _ in range(num_steps)], linestyle=\"--\")\n",
        "\n",
        "for agent in [EpsilonGreedyAgent, EpsilonGreedyAgentConstantStepsize]:\n",
        "    all_averages = []\n",
        "    for run in tqdm(range(num_runs)):\n",
        "        agent_info = {\"num_actions\": 10, \"epsilon\": epsilon, \"step_size\": step_size}\n",
        "        np.random.seed(run)\n",
        "        \n",
        "        rl_glue = RLGlue(env, agent)\n",
        "        rl_glue.rl_init(agent_info, env_info)\n",
        "        rl_glue.rl_start()\n",
        "\n",
        "        scores = [0]\n",
        "        averages = []\n",
        "        \n",
        "        for i in range(num_steps):\n",
        "            reward, state, action, is_terminal = rl_glue.rl_step()\n",
        "            scores.append(scores[-1] + reward)\n",
        "            averages.append(scores[-1] / (i + 1))\n",
        "            if i == 1000:\n",
        "                rl_glue.environment.arms = np.random.randn(10)\n",
        "        all_averages.append(averages)\n",
        "        \n",
        "    plt.plot(np.mean(all_averages, axis=0))\n",
        "plt.legend([\"Лучший из возможных\", \"1/N(A)\", \"0.1\"])\n",
        "plt.xlabel(\"Шаги\")\n",
        "plt.ylabel(\"Средняя награда\")\n",
        "plt.show()"
      ],
      "execution_count": null,
      "outputs": []
    },
    {
      "cell_type": "markdown",
      "metadata": {
        "deletable": false,
        "editable": false,
        "nbgrader": {
          "cell_type": "markdown",
          "checksum": "714c6cad23e3d8fe31496ffbe8674620",
          "grade": false,
          "grade_id": "cell-c4a8be88bbcc9b38",
          "locked": true,
          "schema_version": 3,
          "solution": false
        },
        "id": "TWJQdWai4o8A"
      },
      "source": [
        "Теперь агент с размером шага 1 / N (A) работал лучше в начале, но затем работал хуже при изменении среды! Что случилось?\n",
        "\n",
        "Подумайте, какой будет размер шага после 1000 шагов. Скажем, лучшее действие выбирается 500 раз. Это означает, что размер шага для этого действия составляет 1/500 или 0,002. На каждом шаге, когда мы обновляем значение действия, и значение будет перемещаться только на 0,002 * ошибка. Это очень маленькая корректировка, и потребуется много времени, чтобы она достигла истинной ценности.\n",
        "\n",
        "В то же время агент с размером шага 0,1 всегда обновляется на одну десятую в направлении ошибки. Это означает, что в среднем потребуется десять шагов, чтобы обновить свое значение до среднего по выборке.\n",
        "\n",
        "\n",
        "Это те типы компромиссов, о которых мы должны думать при обучении с подкреплением. Чем больше размер шага, тем быстрее мы приближаемся к истинной ценности, но наши расчетные ценности могут колебаться вокруг ожидаемой ценности. Размер шага, который уменьшается со временем, может приближаться к ожидаемому ценности без колебаний. С другой стороны, такой уменьшающийся размер шага не может адаптироваться к изменениям в окружающей среде. Нестационарность - и связанная с ней концепция частичной наблюдаемости - является общей чертой задач обучения с подкреплением и обучения на ходу."
      ]
    },
    {
      "cell_type": "markdown",
      "metadata": {
        "deletable": false,
        "editable": false,
        "nbgrader": {
          "cell_type": "markdown",
          "checksum": "ad81a549755ccc9ecbfaee839092688a",
          "grade": false,
          "grade_id": "cell-81f8c56a5fa91ecb",
          "locked": true,
          "schema_version": 3,
          "solution": false,
          "task": false
        },
        "id": "AZyLcBS_4o8A"
      },
      "source": [
        "## Раздел 5: Заключение"
      ]
    },
    {
      "cell_type": "markdown",
      "metadata": {
        "deletable": false,
        "editable": false,
        "nbgrader": {
          "cell_type": "markdown",
          "checksum": "3c335943267e235b3001c228e4bf9ba3",
          "grade": false,
          "grade_id": "cell-3c25a546a3d44e22",
          "locked": true,
          "schema_version": 3,
          "solution": false
        },
        "id": "fkp4wgO94o8B"
      },
      "source": [
        "Отлично! Итак, в этом практическом задании вы:\n",
        "- реализовали своего первого агента\n",
        "- узнали о влиянии епсилона, параметра разведки, на производительность агента\n",
        "- узнали о влиянии размера шага на производительность агента"
      ]
    }
  ]
}